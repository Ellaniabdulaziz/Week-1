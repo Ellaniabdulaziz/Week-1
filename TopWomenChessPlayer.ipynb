{
  "nbformat": 4,
  "nbformat_minor": 0,
  "metadata": {
    "colab": {
      "name": "TopWomenChessPlayer.ipynb",
      "provenance": [],
      "collapsed_sections": []
    },
    "kernelspec": {
      "name": "python3",
      "display_name": "Python 3"
    },
    "language_info": {
      "name": "python"
    }
  },
  "cells": [
    {
      "cell_type": "code",
      "execution_count": 4,
      "metadata": {
        "colab": {
          "resources": {
            "http://localhost:8080/nbextensions/google.colab/files.js": {
              "data": "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",
              "ok": true,
              "headers": [
                [
                  "content-type",
                  "application/javascript"
                ]
              ],
              "status": 200,
              "status_text": ""
            }
          },
          "base_uri": "https://localhost:8080/",
          "height": 73
        },
        "id": "uMbgFKRV5jiW",
        "outputId": "86d0eb4b-10ec-4b33-fc9d-310797d4b8c3"
      },
      "outputs": [
        {
          "output_type": "display_data",
          "data": {
            "text/plain": [
              "<IPython.core.display.HTML object>"
            ],
            "text/html": [
              "\n",
              "     <input type=\"file\" id=\"files-2c072198-5076-4f29-915a-fa0108ea1ffd\" name=\"files[]\" multiple disabled\n",
              "        style=\"border:none\" />\n",
              "     <output id=\"result-2c072198-5076-4f29-915a-fa0108ea1ffd\">\n",
              "      Upload widget is only available when the cell has been executed in the\n",
              "      current browser session. Please rerun this cell to enable.\n",
              "      </output>\n",
              "      <script src=\"/nbextensions/google.colab/files.js\"></script> "
            ]
          },
          "metadata": {}
        },
        {
          "output_type": "stream",
          "name": "stdout",
          "text": [
            "Saving top_women_chess_players_aug_2020.csv to top_women_chess_players_aug_2020 (1).csv\n"
          ]
        }
      ],
      "source": [
        "from google.colab import files\n",
        "uploaded = files.upload()"
      ]
    },
    {
      "cell_type": "code",
      "source": [
        "import pandas as pd\n",
        "import numpy as np\n",
        "import sklearn\n",
        "import tensorflow as tf\n",
        "\n",
        "data = pd.read_csv (\"top_women_chess_players_aug_2020.csv\")\n",
        "\n",
        "print(data.head())\n",
        "print(data.isna().sum())"
      ],
      "metadata": {
        "colab": {
          "base_uri": "https://localhost:8080/"
        },
        "id": "hEW0CndG5ovs",
        "outputId": "3b6b6b36-3b74-459f-9be1-4abc08a36afb"
      },
      "execution_count": 5,
      "outputs": [
        {
          "output_type": "stream",
          "name": "stdout",
          "text": [
            "   Fide id                     Name Federation Gender  Year_of_birth Title  \\\n",
            "0   700070            Polgar, Judit        HUN      F         1976.0    GM   \n",
            "1  8602980               Hou, Yifan        CHN      F         1994.0    GM   \n",
            "2  5008123            Koneru, Humpy        IND      F         1987.0    GM   \n",
            "3  4147103  Goryachkina, Aleksandra        RUS      F         1998.0    GM   \n",
            "4   700088            Polgar, Susan        HUN      F         1969.0    GM   \n",
            "\n",
            "   Standard_Rating  Rapid_rating  Blitz_rating Inactive_flag  \n",
            "0             2675        2646.0        2736.0            wi  \n",
            "1             2658        2621.0        2601.0           NaN  \n",
            "2             2586        2483.0        2483.0           NaN  \n",
            "3             2582        2502.0        2441.0           NaN  \n",
            "4             2577           NaN           NaN            wi  \n",
            "Fide id               0\n",
            "Name                  0\n",
            "Federation            0\n",
            "Gender                0\n",
            "Year_of_birth       292\n",
            "Title              5435\n",
            "Standard_Rating       0\n",
            "Rapid_rating       4945\n",
            "Blitz_rating       5081\n",
            "Inactive_flag      2701\n",
            "dtype: int64\n"
          ]
        }
      ]
    },
    {
      "cell_type": "code",
      "source": [
        "#Step 1: Drop less useful columns\n",
        "data = data.drop(['Fide id','Name','Gender'],axis=1)\n",
        "\n",
        "#Step 2: Drop entries without YOB\n",
        "data = data.dropna(subset=['Year_of_birth'])\n",
        "\n",
        "#Step 3: Replace label values\n",
        "data['Inactive_flag'] = data['Inactive_flag'].replace(to_replace=np.nan,value='active')\n",
        "data['Inactive_flag'] = data['Inactive_flag'].replace(to_replace='wi',value='inactive')\n",
        "\n",
        "#Step 4: Fill missing values in Title column\n",
        "data['Title'] = data['Title'].replace(to_replace=np.nan,value='Other')\n",
        "\n",
        "#Step 5: Numerical encoding for Federation\n",
        "from sklearn.preprocessing import LabelEncoder\n",
        "\n",
        "l1 = LabelEncoder()\n",
        "l1.fit(data['Federation'])\n",
        "data['Federation'] = l1.transform(data['Federation'])\n",
        "\n",
        "#%%\n",
        "#Step 6: One hot encode the rest of categorical columns (Title and Inactive_flag)\n",
        "data = pd.get_dummies(data)\n",
        "\n",
        "#%%\n",
        "#Step 7: Fill up other missing numerical values\n",
        "from sklearn.impute import SimpleImputer\n",
        "\n",
        "imputer = SimpleImputer(strategy='constant',fill_value=0)\n",
        "\n",
        "data_np = imputer.fit_transform(data)\n",
        "data2 = pd.DataFrame(data_np)\n",
        "\n",
        "#Step 8: Split features and labels\n",
        "data_features = data2.copy()\n",
        "data_labels = pd.concat([data_features.pop(x) for x in [15,16]],axis=1)\n",
        "\n",
        "#%%\n",
        "from sklearn.model_selection import train_test_split\n",
        "from sklearn import preprocessing\n",
        "SEED=12345\n",
        "x_train, x_test, y_train, y_test = train_test_split(data_features,data_labels,train_size=0.2,random_state=SEED)\n",
        "\n",
        "standardizer = preprocessing.StandardScaler()\n",
        "standardizer.fit(x_train)\n",
        "x_train = standardizer.transform(x_train)\n",
        "x_test = standardizer.transform(x_test)\n",
        "\n",
        "#Data preparation complete"
      ],
      "metadata": {
        "id": "EQYy0Sgu5r59"
      },
      "execution_count": 7,
      "outputs": []
    },
    {
      "cell_type": "code",
      "source": [
        "#Model creation\n",
        "nClass = np.array(y_test).shape[1]\n",
        "inputs = tf.keras.Input(shape=(x_train.shape[-1],))\n",
        "dense = tf.keras.layers.Dense(64,activation='relu')\n",
        "x = dense(inputs)\n",
        "dense = tf.keras.layers.Dense(32,activation='relu')\n",
        "x = dense(x)\n",
        "dense = tf.keras.layers.Dense(16,activation='relu')\n",
        "x = dense(x)\n",
        "outputs = tf.keras.layers.Dense(nClass,activation='softmax')(x)\n",
        "\n",
        "model = tf.keras.Model(inputs=inputs,outputs=outputs,name='wc_model')\n",
        "model.summary()"
      ],
      "metadata": {
        "colab": {
          "base_uri": "https://localhost:8080/"
        },
        "id": "Z8PX5DH86GAJ",
        "outputId": "5995219e-2745-4d21-d169-e72cab41060e"
      },
      "execution_count": 8,
      "outputs": [
        {
          "output_type": "stream",
          "name": "stdout",
          "text": [
            "Model: \"wc_model\"\n",
            "_________________________________________________________________\n",
            " Layer (type)                Output Shape              Param #   \n",
            "=================================================================\n",
            " input_1 (InputLayer)        [(None, 15)]              0         \n",
            "                                                                 \n",
            " dense (Dense)               (None, 64)                1024      \n",
            "                                                                 \n",
            " dense_1 (Dense)             (None, 32)                2080      \n",
            "                                                                 \n",
            " dense_2 (Dense)             (None, 16)                528       \n",
            "                                                                 \n",
            " dense_3 (Dense)             (None, 2)                 34        \n",
            "                                                                 \n",
            "=================================================================\n",
            "Total params: 3,666\n",
            "Trainable params: 3,666\n",
            "Non-trainable params: 0\n",
            "_________________________________________________________________\n"
          ]
        }
      ]
    },
    {
      "cell_type": "code",
      "source": [
        "model.compile(optimizer='adam',loss='categorical_crossentropy',metrics=['accuracy'])\n",
        "history = model.fit(x_train,y_train,validation_data=(x_test,y_test),batch_size=16,epochs=25)"
      ],
      "metadata": {
        "colab": {
          "base_uri": "https://localhost:8080/"
        },
        "id": "NYQ_9PkG6JXg",
        "outputId": "d3ed9abc-de3f-4af5-d57e-82775286ffec"
      },
      "execution_count": 9,
      "outputs": [
        {
          "output_type": "stream",
          "name": "stdout",
          "text": [
            "Epoch 1/25\n",
            "104/104 [==============================] - 3s 22ms/step - loss: 0.5545 - accuracy: 0.7415 - val_loss: 0.4669 - val_accuracy: 0.7826\n",
            "Epoch 2/25\n",
            "104/104 [==============================] - 1s 11ms/step - loss: 0.4600 - accuracy: 0.7815 - val_loss: 0.4570 - val_accuracy: 0.7841\n",
            "Epoch 3/25\n",
            "104/104 [==============================] - 1s 8ms/step - loss: 0.4479 - accuracy: 0.7942 - val_loss: 0.4567 - val_accuracy: 0.7842\n",
            "Epoch 4/25\n",
            "104/104 [==============================] - 1s 8ms/step - loss: 0.4416 - accuracy: 0.7912 - val_loss: 0.4505 - val_accuracy: 0.7891\n",
            "Epoch 5/25\n",
            "104/104 [==============================] - 1s 7ms/step - loss: 0.4317 - accuracy: 0.8051 - val_loss: 0.4444 - val_accuracy: 0.7936\n",
            "Epoch 6/25\n",
            "104/104 [==============================] - 1s 8ms/step - loss: 0.4222 - accuracy: 0.8027 - val_loss: 0.4411 - val_accuracy: 0.7926\n",
            "Epoch 7/25\n",
            "104/104 [==============================] - 1s 8ms/step - loss: 0.4197 - accuracy: 0.8099 - val_loss: 0.4394 - val_accuracy: 0.7942\n",
            "Epoch 8/25\n",
            "104/104 [==============================] - 1s 8ms/step - loss: 0.4100 - accuracy: 0.8136 - val_loss: 0.4360 - val_accuracy: 0.7982\n",
            "Epoch 9/25\n",
            "104/104 [==============================] - 1s 7ms/step - loss: 0.4027 - accuracy: 0.8172 - val_loss: 0.4341 - val_accuracy: 0.8007\n",
            "Epoch 10/25\n",
            "104/104 [==============================] - 1s 8ms/step - loss: 0.3991 - accuracy: 0.8154 - val_loss: 0.4315 - val_accuracy: 0.8016\n",
            "Epoch 11/25\n",
            "104/104 [==============================] - 1s 8ms/step - loss: 0.3960 - accuracy: 0.8202 - val_loss: 0.4306 - val_accuracy: 0.8045\n",
            "Epoch 12/25\n",
            "104/104 [==============================] - 1s 8ms/step - loss: 0.3944 - accuracy: 0.8196 - val_loss: 0.4314 - val_accuracy: 0.8033\n",
            "Epoch 13/25\n",
            "104/104 [==============================] - 1s 8ms/step - loss: 0.3873 - accuracy: 0.8142 - val_loss: 0.4276 - val_accuracy: 0.8036\n",
            "Epoch 14/25\n",
            "104/104 [==============================] - 1s 8ms/step - loss: 0.3860 - accuracy: 0.8220 - val_loss: 0.4314 - val_accuracy: 0.8022\n",
            "Epoch 15/25\n",
            "104/104 [==============================] - 1s 7ms/step - loss: 0.3805 - accuracy: 0.8263 - val_loss: 0.4322 - val_accuracy: 0.8054\n",
            "Epoch 16/25\n",
            "104/104 [==============================] - 1s 8ms/step - loss: 0.3782 - accuracy: 0.8245 - val_loss: 0.4334 - val_accuracy: 0.8031\n",
            "Epoch 17/25\n",
            "104/104 [==============================] - 1s 7ms/step - loss: 0.3759 - accuracy: 0.8293 - val_loss: 0.4351 - val_accuracy: 0.8009\n",
            "Epoch 18/25\n",
            "104/104 [==============================] - 1s 8ms/step - loss: 0.3755 - accuracy: 0.8311 - val_loss: 0.4366 - val_accuracy: 0.8021\n",
            "Epoch 19/25\n",
            "104/104 [==============================] - 1s 8ms/step - loss: 0.3749 - accuracy: 0.8293 - val_loss: 0.4435 - val_accuracy: 0.7982\n",
            "Epoch 20/25\n",
            "104/104 [==============================] - 1s 7ms/step - loss: 0.3758 - accuracy: 0.8263 - val_loss: 0.4362 - val_accuracy: 0.8036\n",
            "Epoch 21/25\n",
            "104/104 [==============================] - 1s 8ms/step - loss: 0.3694 - accuracy: 0.8317 - val_loss: 0.4465 - val_accuracy: 0.7971\n",
            "Epoch 22/25\n",
            "104/104 [==============================] - 1s 8ms/step - loss: 0.3673 - accuracy: 0.8323 - val_loss: 0.4610 - val_accuracy: 0.7898\n",
            "Epoch 23/25\n",
            "104/104 [==============================] - 1s 8ms/step - loss: 0.3684 - accuracy: 0.8263 - val_loss: 0.4394 - val_accuracy: 0.7994\n",
            "Epoch 24/25\n",
            "104/104 [==============================] - 1s 7ms/step - loss: 0.3626 - accuracy: 0.8335 - val_loss: 0.4468 - val_accuracy: 0.8018\n",
            "Epoch 25/25\n",
            "104/104 [==============================] - 1s 8ms/step - loss: 0.3613 - accuracy: 0.8390 - val_loss: 0.4445 - val_accuracy: 0.8007\n"
          ]
        }
      ]
    },
    {
      "cell_type": "code",
      "source": [
        "import matplotlib.pyplot as plt\n",
        "\n",
        "training_loss = history.history['loss']\n",
        "val_loss = history.history['val_loss']\n",
        "training_accuracy = history.history['accuracy']\n",
        "val_accuracy = history.history['val_accuracy']\n",
        "epochs = history.epoch\n",
        "\n",
        "plt.plot(epochs,training_loss,label='Training loss',)\n",
        "plt.plot(epochs,val_loss,label='Validation loss')\n",
        "plt.title('Training vs Validation Loss')\n",
        "plt.legend()\n",
        "plt.figure()\n",
        "\n",
        "plt.plot(epochs,training_accuracy,label='Training accuracy')\n",
        "plt.plot(epochs,val_accuracy,label='Validation accuracy')\n",
        "plt.title('Training vs Validation Accuracy')\n",
        "plt.legend()\n",
        "plt.figure()\n",
        "\n",
        "\n",
        "plt.show()"
      ],
      "metadata": {
        "colab": {
          "base_uri": "https://localhost:8080/",
          "height": 562
        },
        "id": "ELh1RTg467Ih",
        "outputId": "7988f40b-19e3-4d92-e021-ecd3779201af"
      },
      "execution_count": 10,
      "outputs": [
        {
          "output_type": "display_data",
          "data": {
            "text/plain": [
              "<Figure size 432x288 with 1 Axes>"
            ],
            "image/png": "[encoded data removed]"
          },
          "metadata": {
            "needs_background": "light"
          }
        },
        {
          "output_type": "display_data",
          "data": {
            "text/plain": [
              "<Figure size 432x288 with 1 Axes>"
            ],
            "image/png": "[encoded data removed]"
          },
          "metadata": {
            "needs_background": "light"
          }
        },
        {
          "output_type": "display_data",
          "data": {
            "text/plain": [
              "<Figure size 432x288 with 0 Axes>"
            ]
          },
          "metadata": {}
        }
      ]
    }
  ]
}